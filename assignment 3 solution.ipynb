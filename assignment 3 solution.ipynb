{
 "cells": [
  {
   "cell_type": "code",
   "execution_count": 1,
   "metadata": {},
   "outputs": [
    {
     "name": "stdout",
     "output_type": "stream",
     "text": [
      "Area of Triangle:  45.825756949558404\n"
     ]
    }
   ],
   "source": [
    "\"\"\"1.1 Write a Python Program(with class concepts) to find the area of the triangle using the below\n",
    "formula.\n",
    "area = (s*(s-a)*(s-b)*(s-c)) ** 0.5\n",
    "Function to take the length of the sides of triangle from user should be defined in the parent\n",
    "class and function to calculate the area should be defined in subclass.\"\"\"\n",
    "\n",
    "class areaCalculator:\n",
    "    def __init__(self,s,a,b,c):\n",
    "        self.s = s\n",
    "        self.a = a\n",
    "        self.b = b\n",
    "        self.c = c\n",
    "    \n",
    "    def area(self):\n",
    "        print(\"Area of Triangle: \",(self.s*(self.s-self.a)*(self.s-self.b)*(self.s-self.c)) ** 0.5)\n",
    "\n",
    "area = areaCalculator(10,3,4,5)\n",
    "area.area()"
   ]
  },
  {
   "cell_type": "code",
   "execution_count": 2,
   "metadata": {},
   "outputs": [
    {
     "data": {
      "text/plain": [
       "['James', 'Alberta', 'George ']"
      ]
     },
     "execution_count": 2,
     "metadata": {},
     "output_type": "execute_result"
    }
   ],
   "source": [
    "\"\"\"1.2 Write a function filter_long_words() that takes a list of words and an integer n and returns\n",
    "the list of words that are longer than n.\"\"\"\n",
    "\n",
    "def filter_long_words(listOfWords,length):\n",
    "    n_long = []\n",
    "    for word in listOfWords:\n",
    "        if len(word) > length:  \n",
    "            n_long.append(word)\n",
    "    return n_long\n",
    "\n",
    "filter_long_words(['James','Alberta','George ','Leo','Kris'],4)"
   ]
  },
  {
   "cell_type": "code",
   "execution_count": 3,
   "metadata": {},
   "outputs": [
    {
     "data": {
      "text/plain": [
       "[5, 7, 7, 3, 4]"
      ]
     },
     "execution_count": 3,
     "metadata": {},
     "output_type": "execute_result"
    }
   ],
   "source": [
    "\"\"\"2.1 Write a Python program using function concept that maps list of words into a list of integers\n",
    "representing the lengths of the corresponding words.\n",
    "Hint: If a list [ ab,cde,erty] is passed on to the python function output should come as [2,3,4]\n",
    "Here 2,3 and 4 are the lengths of the words in the list.\"\"\"\n",
    "\n",
    "def word_length(listOfWords):\n",
    "    ln =[]\n",
    "    for word in listOfWords:\n",
    "        ln.append(len(word))\n",
    "    return ln\n",
    "\n",
    "word_length(['James','Alberta','George ','Leo','Kris'])"
   ]
  },
  {
   "cell_type": "code",
   "execution_count": 5,
   "metadata": {},
   "outputs": [
    {
     "name": "stdout",
     "output_type": "stream",
     "text": [
      "Length of Strig is greater than 1 !\n",
      "Please Enter Valid String..\n",
      "None\n"
     ]
    }
   ],
   "source": [
    "\"\"\"2.2 Write a Python function which takes a character (i.e. a string of length 1) and returns True if\n",
    "it is a vowel, False otherwise.\"\"\"\n",
    "\n",
    "def vowelChecker(char):\n",
    "    vowels = ['a','e','i','o','u']\n",
    "    if len(char)==1:\n",
    "        if char in vowels:\n",
    "            return True\n",
    "        else:return False\n",
    "    else: print('Length of Strig is greater than 1 !\\nPlease Enter Valid String..')\n",
    "\n",
    "print(vowelChecker('aasf'))"
   ]
  },
  {
   "cell_type": "code",
   "execution_count": 6,
   "metadata": {},
   "outputs": [
    {
     "data": {
      "text/plain": [
       "True"
      ]
     },
     "execution_count": 6,
     "metadata": {},
     "output_type": "execute_result"
    }
   ],
   "source": [
    "vowelChecker('a')"
   ]
  },
  {
   "cell_type": "code",
   "execution_count": 7,
   "metadata": {},
   "outputs": [
    {
     "data": {
      "text/plain": [
       "False"
      ]
     },
     "execution_count": 7,
     "metadata": {},
     "output_type": "execute_result"
    }
   ],
   "source": [
    "vowelChecker('g')"
   ]
  }
 ],
 "metadata": {
  "kernelspec": {
   "display_name": "Python 3",
   "language": "python",
   "name": "python3"
  },
  "language_info": {
   "codemirror_mode": {
    "name": "ipython",
    "version": 3
   },
   "file_extension": ".py",
   "mimetype": "text/x-python",
   "name": "python",
   "nbconvert_exporter": "python",
   "pygments_lexer": "ipython3",
   "version": "3.7.6"
  }
 },
 "nbformat": 4,
 "nbformat_minor": 4
}
